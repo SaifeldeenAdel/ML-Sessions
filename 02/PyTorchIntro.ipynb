{
  "cells": [
    {
      "cell_type": "markdown",
      "id": "a90a5683-9a8f-4193-802d-2d89482b09ae",
      "metadata": {
        "id": "a90a5683-9a8f-4193-802d-2d89482b09ae"
      },
      "source": [
        "# Tensors"
      ]
    },
    {
      "cell_type": "code",
      "execution_count": null,
      "id": "c31af1b8-ea89-4ae2-b0ab-770ebc088ff9",
      "metadata": {
        "id": "c31af1b8-ea89-4ae2-b0ab-770ebc088ff9"
      },
      "outputs": [],
      "source": [
        "import torch\n",
        "import numpy as np"
      ]
    },
    {
      "cell_type": "code",
      "execution_count": null,
      "id": "0e52e01d-91c0-4591-9797-8ccb18abadad",
      "metadata": {
        "colab": {
          "base_uri": "https://localhost:8080/"
        },
        "id": "0e52e01d-91c0-4591-9797-8ccb18abadad",
        "outputId": "0c226f08-fae6-47b5-8ace-1dad3a7ab386"
      },
      "outputs": [
        {
          "output_type": "execute_result",
          "data": {
            "text/plain": [
              "tensor([1, 2, 3])"
            ]
          },
          "metadata": {},
          "execution_count": 2
        }
      ],
      "source": [
        "x = torch.tensor([1,2,3])\n",
        "x"
      ]
    },
    {
      "cell_type": "code",
      "execution_count": null,
      "id": "b16d3ee3-7af0-4a5e-b869-59974396ff67",
      "metadata": {
        "colab": {
          "base_uri": "https://localhost:8080/"
        },
        "id": "b16d3ee3-7af0-4a5e-b869-59974396ff67",
        "outputId": "2e626db5-60ad-4c77-ee12-03764e04bee7"
      },
      "outputs": [
        {
          "output_type": "execute_result",
          "data": {
            "text/plain": [
              "(tensor([0, 1, 2, 3, 4, 5, 6, 7, 8, 9]),\n",
              " tensor([[0],\n",
              "         [1],\n",
              "         [2],\n",
              "         [3],\n",
              "         [4],\n",
              "         [5],\n",
              "         [6],\n",
              "         [7],\n",
              "         [8],\n",
              "         [9]]))"
            ]
          },
          "metadata": {},
          "execution_count": 3
        }
      ],
      "source": [
        "x = torch.arange(0,10)\n",
        "xs = torch.arange(0,10).unsqueeze(dim=1)\n",
        "x, xs"
      ]
    },
    {
      "cell_type": "code",
      "execution_count": null,
      "id": "97f04842-1460-496c-9811-5240c7188b2a",
      "metadata": {
        "colab": {
          "base_uri": "https://localhost:8080/"
        },
        "id": "97f04842-1460-496c-9811-5240c7188b2a",
        "outputId": "432bea4f-de33-4780-a3ad-596b40ac1086"
      },
      "outputs": [
        {
          "output_type": "stream",
          "name": "stdout",
          "text": [
            "[1 2 3 4]\n",
            "tensor([1, 2, 3, 4])\n"
          ]
        }
      ],
      "source": [
        "x = np.array([1,2,3,4])\n",
        "print(x)\n",
        "x = torch.from_numpy(x)\n",
        "print(x)"
      ]
    },
    {
      "cell_type": "code",
      "execution_count": null,
      "id": "d9fa4664-1068-4b81-87ba-692affe70744",
      "metadata": {
        "colab": {
          "base_uri": "https://localhost:8080/"
        },
        "id": "d9fa4664-1068-4b81-87ba-692affe70744",
        "outputId": "2e5ebba7-45b0-4cf9-ad8e-5af463b4f102"
      },
      "outputs": [
        {
          "output_type": "execute_result",
          "data": {
            "text/plain": [
              "torch.Size([2, 2])"
            ]
          },
          "metadata": {},
          "execution_count": 5
        }
      ],
      "source": [
        "x = torch.tensor([[1,2],[3,4]])\n",
        "x.shape"
      ]
    },
    {
      "cell_type": "code",
      "execution_count": null,
      "id": "bf8a38da-77d2-4320-b3ec-1c6a57c7a5b9",
      "metadata": {
        "colab": {
          "base_uri": "https://localhost:8080/"
        },
        "id": "bf8a38da-77d2-4320-b3ec-1c6a57c7a5b9",
        "outputId": "7d93e4a0-7f65-4ba9-cfe0-79c3e1bb4bad"
      },
      "outputs": [
        {
          "output_type": "execute_result",
          "data": {
            "text/plain": [
              "(tensor([0., 0., 0., 0., 0.]), tensor([1., 1., 1., 1., 1.]), tensor(2.))"
            ]
          },
          "metadata": {},
          "execution_count": 6
        }
      ],
      "source": [
        "x = torch.zeros(5)\n",
        "y = torch.ones(5)\n",
        "z = torch.tensor([1,2,3], dtype=torch.float32)\n",
        "x, y, z.mean()"
      ]
    },
    {
      "cell_type": "markdown",
      "id": "2039cf99-7769-4d31-b4ec-3da83c85f7ea",
      "metadata": {
        "id": "2039cf99-7769-4d31-b4ec-3da83c85f7ea"
      },
      "source": [
        "# Data Creation and Splitting"
      ]
    },
    {
      "cell_type": "code",
      "execution_count": null,
      "id": "44d2242c-101f-41c7-a0c4-d976674598a3",
      "metadata": {
        "colab": {
          "base_uri": "https://localhost:8080/"
        },
        "id": "44d2242c-101f-41c7-a0c4-d976674598a3",
        "outputId": "55112d6b-803f-4a2e-ca98-4f63f0c7739c"
      },
      "outputs": [
        {
          "output_type": "execute_result",
          "data": {
            "text/plain": [
              "<torch._C.Generator at 0x793fd777cad0>"
            ]
          },
          "metadata": {},
          "execution_count": 7
        }
      ],
      "source": [
        "from torch import nn\n",
        "import numpy as np\n",
        "import matplotlib.pyplot as plt\n",
        "from sklearn.model_selection import train_test_split\n",
        "\n",
        "torch.manual_seed(42)"
      ]
    },
    {
      "cell_type": "code",
      "execution_count": null,
      "id": "959afd1d-d898-4d28-a18c-27518f853968",
      "metadata": {
        "id": "959afd1d-d898-4d28-a18c-27518f853968"
      },
      "outputs": [],
      "source": [
        "X = torch.arange(0,1,0.02).unsqueeze(dim=1)\n",
        "y = 0.7*X + 0.3"
      ]
    },
    {
      "cell_type": "code",
      "execution_count": null,
      "id": "ee22012a-7d7d-427f-a8e7-d62b6bced690",
      "metadata": {
        "id": "ee22012a-7d7d-427f-a8e7-d62b6bced690"
      },
      "outputs": [],
      "source": [
        "X_train, X_test, y_train, y_test = train_test_split(X, y, test_size=0.2, shuffle=True)"
      ]
    },
    {
      "cell_type": "code",
      "source": [
        "X_train.shape, y_train.shape"
      ],
      "metadata": {
        "colab": {
          "base_uri": "https://localhost:8080/"
        },
        "id": "Ivw0ELK1oSkT",
        "outputId": "6de03cb9-ceb4-4953-d4c8-227950b012c7"
      },
      "id": "Ivw0ELK1oSkT",
      "execution_count": null,
      "outputs": [
        {
          "output_type": "execute_result",
          "data": {
            "text/plain": [
              "(torch.Size([40, 1]), torch.Size([40, 1]))"
            ]
          },
          "metadata": {},
          "execution_count": 10
        }
      ]
    },
    {
      "cell_type": "code",
      "execution_count": null,
      "id": "9d5f3f5e-8bec-4e23-9ce0-1620bb20ae89",
      "metadata": {
        "colab": {
          "base_uri": "https://localhost:8080/",
          "height": 430
        },
        "id": "9d5f3f5e-8bec-4e23-9ce0-1620bb20ae89",
        "outputId": "dc67b53f-438c-4f3c-a013-50b0fca6f779"
      },
      "outputs": [
        {
          "output_type": "display_data",
          "data": {
            "text/plain": [
              "<Figure size 640x480 with 1 Axes>"
            ],
            "image/png": "[encoded data removed]"
          },
          "metadata": {}
        }
      ],
      "source": [
        "plt.scatter(X_train, y_train, c=\"b\", label=\"Train\")\n",
        "plt.scatter(X_test, y_test, c=\"r\", label=\"Test\")\n",
        "plt.legend()\n",
        "plt.show()"
      ]
    },
    {
      "cell_type": "code",
      "execution_count": null,
      "id": "2dc7e3e9-ab9a-439f-91ed-6ac0a91e8e13",
      "metadata": {
        "id": "2dc7e3e9-ab9a-439f-91ed-6ac0a91e8e13"
      },
      "outputs": [],
      "source": [
        "class LinearReg(nn.Module):\n",
        "    def __init__(self):\n",
        "        super().__init__()\n",
        "        self.weight = nn.Parameter(torch.randn(1,requires_grad=True,dtype=torch.float))\n",
        "        self.bias = nn.Parameter(torch.randn(1,requires_grad=True,dtype=torch.float))\n",
        "\n",
        "    def forward(self,x):\n",
        "        return self.weight * x + self.bias\n"
      ]
    },
    {
      "cell_type": "markdown",
      "source": [
        "## Test with initial parameters"
      ],
      "metadata": {
        "id": "inT9uLZAofYp"
      },
      "id": "inT9uLZAofYp"
    },
    {
      "cell_type": "code",
      "execution_count": null,
      "id": "ee715feb-4663-4f5f-a280-bf7781acaa2a",
      "metadata": {
        "colab": {
          "base_uri": "https://localhost:8080/"
        },
        "id": "ee715feb-4663-4f5f-a280-bf7781acaa2a",
        "outputId": "d61eea2b-4813-4370-bc1e-d1d6f906fe12"
      },
      "outputs": [
        {
          "output_type": "stream",
          "name": "stdout",
          "text": [
            "OrderedDict([('weight', tensor([0.3367])), ('bias', tensor([0.1288]))])\n"
          ]
        },
        {
          "output_type": "execute_result",
          "data": {
            "text/plain": [
              "tensor([[0.1894],\n",
              "        [0.3712],\n",
              "        [0.3645],\n",
              "        [0.1961],\n",
              "        [0.3982],\n",
              "        [0.3578],\n",
              "        [0.1692],\n",
              "        [0.3174],\n",
              "        [0.2433],\n",
              "        [0.3241]])"
            ]
          },
          "metadata": {},
          "execution_count": 16
        }
      ],
      "source": [
        "torch.manual_seed(42)\n",
        "model = LinearReg()\n",
        "model.state_dict()\n",
        "print(model.state_dict())\n",
        "\n",
        "with torch.inference_mode():\n",
        "    y_pred = model(X_test)\n",
        "y_pred"
      ]
    },
    {
      "cell_type": "code",
      "execution_count": null,
      "id": "34320bee-5750-4cad-9f2a-c6f114b4308a",
      "metadata": {
        "colab": {
          "base_uri": "https://localhost:8080/",
          "height": 430
        },
        "id": "34320bee-5750-4cad-9f2a-c6f114b4308a",
        "outputId": "46149aa7-ba20-4ef0-e263-42e1b7c90471"
      },
      "outputs": [
        {
          "output_type": "display_data",
          "data": {
            "text/plain": [
              "<Figure size 640x480 with 1 Axes>"
            ],
            "image/png": "[encoded data removed]"
          },
          "metadata": {}
        }
      ],
      "source": [
        "def plotpred(X_train, y_train, X_test,y_test,y_pred):\n",
        "    plt.scatter(X_train, y_train, c=\"b\", label=\"Train\")\n",
        "    plt.scatter(X_test, y_test, c=\"g\", label=\"Test\")\n",
        "    if y_pred is not None :\n",
        "      plt.scatter(X_test, y_pred, c=\"r\", label=\"Prediction\")\n",
        "    plt.legend()\n",
        "    plt.show()\n",
        "\n",
        "plotpred(X_train, y_train, X_test,y_test,y_pred)"
      ]
    },
    {
      "cell_type": "markdown",
      "id": "5c30c80c-9967-457a-80f3-10c62e92f4c8",
      "metadata": {
        "id": "5c30c80c-9967-457a-80f3-10c62e92f4c8"
      },
      "source": [
        "# Training Loop"
      ]
    },
    {
      "cell_type": "code",
      "execution_count": null,
      "id": "72aec920-3b26-4211-97b6-d562dcc47636",
      "metadata": {
        "colab": {
          "base_uri": "https://localhost:8080/"
        },
        "id": "72aec920-3b26-4211-97b6-d562dcc47636",
        "outputId": "3605e05b-7106-466a-b9f3-578733466b14"
      },
      "outputs": [
        {
          "output_type": "stream",
          "name": "stdout",
          "text": [
            "Epoch: 0 | Loss: 0.011479237116873264 | Test Loss: 0.00915915984660387\n",
            "Epoch: 10 | Loss: 0.006177536211907864 | Test Loss: 0.004702270030975342\n",
            "Epoch: 20 | Loss: 0.007614235393702984 | Test Loss: 0.00477328896522522\n"
          ]
        },
        {
          "output_type": "execute_result",
          "data": {
            "text/plain": [
              "OrderedDict([('weight', tensor([0.6976])), ('bias', tensor([0.3088]))])"
            ]
          },
          "metadata": {},
          "execution_count": 22
        }
      ],
      "source": [
        "loss_fn = nn.L1Loss()\n",
        "optimizer = torch.optim.SGD(params=model.parameters(), lr=0.01)\n",
        "\n",
        "epochs = 30\n",
        "epoch_count = []\n",
        "loss_values = []\n",
        "test_loss_values = []\n",
        "\n",
        "for epoch in range(epochs):\n",
        "    # Forward pass\n",
        "    model.train()\n",
        "\n",
        "    # Make predictions\n",
        "    y_pred = model(X_train)\n",
        "\n",
        "    # Calculate loss\n",
        "    loss = loss_fn(y_pred, y_train)\n",
        "    loss_values.append(loss)\n",
        "\n",
        "    # Reset gradients as they accumulate\n",
        "    optimizer.zero_grad()\n",
        "\n",
        "    # Back propagation, gradient descent\n",
        "    loss.backward()\n",
        "    optimizer.step()\n",
        "\n",
        "    # Evaluate model\n",
        "    model.eval()\n",
        "    with torch.inference_mode():\n",
        "        test_preds = model(X_test)\n",
        "        test_loss = loss_fn(test_preds, y_test)\n",
        "        test_loss_values.append(test_loss)\n",
        "        epoch_count.append(epoch)\n",
        "\n",
        "    if epoch % 10 ==0 :\n",
        "      print(f\"Epoch: {epoch} | Loss: {loss} | Test Loss: {test_loss}\")\n",
        "\n",
        "model.state_dict()\n"
      ]
    },
    {
      "cell_type": "code",
      "source": [
        "model.state_dict()"
      ],
      "metadata": {
        "colab": {
          "base_uri": "https://localhost:8080/"
        },
        "id": "f3XLpxpHILK3",
        "outputId": "6b956d64-50ca-4e08-b063-3efece7fb8d3"
      },
      "id": "f3XLpxpHILK3",
      "execution_count": null,
      "outputs": [
        {
          "output_type": "execute_result",
          "data": {
            "text/plain": [
              "OrderedDict([('weight', tensor([0.6557])), ('bias', tensor([0.3228]))])"
            ]
          },
          "metadata": {},
          "execution_count": 20
        }
      ]
    },
    {
      "cell_type": "code",
      "execution_count": null,
      "id": "b307c65c-4b0b-49d9-a4e8-d8e852adce6a",
      "metadata": {
        "colab": {
          "base_uri": "https://localhost:8080/",
          "height": 430
        },
        "id": "b307c65c-4b0b-49d9-a4e8-d8e852adce6a",
        "outputId": "9f4848df-7643-47d2-e72a-76fae0bcd555"
      },
      "outputs": [
        {
          "output_type": "display_data",
          "data": {
            "text/plain": [
              "<Figure size 640x480 with 1 Axes>"
            ],
            "image/png": "[encoded data removed]"
          },
          "metadata": {}
        }
      ],
      "source": [
        "plotpred(X_train, y_train, X_test,y_test,test_preds.detach().numpy())"
      ]
    },
    {
      "cell_type": "markdown",
      "source": [
        "## Using the Linear Layer Directly"
      ],
      "metadata": {
        "id": "Gt9esZdhsiof"
      },
      "id": "Gt9esZdhsiof"
    },
    {
      "cell_type": "code",
      "execution_count": null,
      "id": "412cd133-74da-4842-ba28-8973b4a39631",
      "metadata": {
        "id": "412cd133-74da-4842-ba28-8973b4a39631"
      },
      "outputs": [],
      "source": [
        "class LinearReg2(nn.Module):\n",
        "    def __init__(self):\n",
        "        super().__init__()\n",
        "        self.linear_layer = nn.Linear(in_features=1, out_features=1)\n",
        "\n",
        "    def forward(self,x):\n",
        "        return self.linear_layer(x)"
      ]
    },
    {
      "cell_type": "code",
      "source": [
        "X = torch.arange(0,1,0.02).unsqueeze(dim=1)\n",
        "y = 0.7*X + 0.3"
      ],
      "metadata": {
        "id": "pmVDYXSLsqNc"
      },
      "id": "pmVDYXSLsqNc",
      "execution_count": null,
      "outputs": []
    },
    {
      "cell_type": "code",
      "source": [
        "X_train, X_test, y_train, y_test = train_test_split(X, y, test_size=0.2, shuffle=True)\n",
        "plotpred(X_train, y_train, X_test,y_test, y_pred=None)"
      ],
      "metadata": {
        "colab": {
          "base_uri": "https://localhost:8080/",
          "height": 430
        },
        "id": "QLjWCGBmsujI",
        "outputId": "6b3ac767-9893-4eef-ea0e-1f1b426efc81"
      },
      "id": "QLjWCGBmsujI",
      "execution_count": null,
      "outputs": [
        {
          "output_type": "display_data",
          "data": {
            "text/plain": [
              "<Figure size 640x480 with 1 Axes>"
            ],
            "image/png": "[encoded data removed]"
          },
          "metadata": {}
        }
      ]
    },
    {
      "cell_type": "code",
      "source": [
        "torch.manual_seed(42)\n",
        "\n",
        "model = LinearReg2()\n",
        "print(model.state_dict())\n",
        "\n",
        "loss_fn = nn.L1Loss()\n",
        "optimizer = torch.optim.SGD(params=model.parameters(), lr=0.01)\n",
        "\n",
        "epochs = 100\n",
        "epoch_count = []\n",
        "loss_values = []\n",
        "test_loss_values = []\n",
        "\n",
        "for epoch in range(epochs):\n",
        "    model.train()\n",
        "    y_pred = model(X_train)\n",
        "\n",
        "    loss = loss_fn(y_pred, y_train)\n",
        "    loss_values.append(loss.detach().numpy())\n",
        "\n",
        "    optimizer.zero_grad()\n",
        "\n",
        "    loss.backward()\n",
        "    optimizer.step()\n",
        "\n",
        "    model.eval()\n",
        "    with torch.inference_mode():\n",
        "        test_preds = model(X_test)\n",
        "        test_loss = loss_fn(test_preds, y_test)\n",
        "        test_loss_values.append(test_loss)\n",
        "        epoch_count.append(epoch)\n",
        "\n",
        "    if epoch % 10 ==0 :\n",
        "        print(f\"Epoch: {epoch} | Loss: {loss} | Test Loss: {test_loss}\")\n",
        "\n",
        "model.state_dict()\n"
      ],
      "metadata": {
        "colab": {
          "base_uri": "https://localhost:8080/"
        },
        "id": "ycrAUaD0szAH",
        "outputId": "a8139335-0948-416d-d342-1d771d199c20"
      },
      "id": "ycrAUaD0szAH",
      "execution_count": null,
      "outputs": [
        {
          "output_type": "stream",
          "name": "stdout",
          "text": [
            "OrderedDict([('linear_layer.weight', tensor([[0.7645]])), ('linear_layer.bias', tensor([0.8300]))])\n",
            "Epoch: 0 | Loss: 0.5592438578605652 | Test Loss: 0.5582932829856873\n",
            "Epoch: 10 | Loss: 0.43872302770614624 | Test Loss: 0.4293919503688812\n",
            "Epoch: 20 | Loss: 0.31820210814476013 | Test Loss: 0.3004906177520752\n",
            "Epoch: 30 | Loss: 0.19768126308918 | Test Loss: 0.1715892255306244\n",
            "Epoch: 40 | Loss: 0.07716040313243866 | Test Loss: 0.04268781095743179\n",
            "Epoch: 50 | Loss: 0.034132350236177444 | Test Loss: 0.026448428630828857\n",
            "Epoch: 60 | Loss: 0.028402913361787796 | Test Loss: 0.02344614267349243\n",
            "Epoch: 70 | Loss: 0.02312563918530941 | Test Loss: 0.01914812996983528\n",
            "Epoch: 80 | Loss: 0.01784454844892025 | Test Loss: 0.014666393399238586\n",
            "Epoch: 90 | Loss: 0.01256345771253109 | Test Loss: 0.010184663347899914\n"
          ]
        },
        {
          "output_type": "execute_result",
          "data": {
            "text/plain": [
              "OrderedDict([('linear_layer.weight', tensor([[0.6718]])),\n",
              "             ('linear_layer.bias', tensor([0.3145]))])"
            ]
          },
          "metadata": {},
          "execution_count": 117
        }
      ]
    },
    {
      "cell_type": "markdown",
      "source": [
        "## Plotting Loss"
      ],
      "metadata": {
        "id": "Owium9EEtgpg"
      },
      "id": "Owium9EEtgpg"
    },
    {
      "cell_type": "code",
      "source": [
        "plt.plot(epoch_count, loss_values, label=\"Train loss\")\n",
        "plt.plot(epoch_count, test_loss_values, label=\"Test loss\")\n",
        "plt.title(\"Training and test loss curves\")\n",
        "plt.ylabel(\"Loss\")\n",
        "plt.xlabel(\"Epochs\")\n",
        "plt.legend()"
      ],
      "metadata": {
        "colab": {
          "base_uri": "https://localhost:8080/",
          "height": 489
        },
        "id": "2yjlhGPJtFio",
        "outputId": "4c66637b-52b1-49a1-abd6-d5549f2640b8"
      },
      "id": "2yjlhGPJtFio",
      "execution_count": null,
      "outputs": [
        {
          "output_type": "execute_result",
          "data": {
            "text/plain": [
              "<matplotlib.legend.Legend at 0x7ee7d08e01f0>"
            ]
          },
          "metadata": {},
          "execution_count": 118
        },
        {
          "output_type": "display_data",
          "data": {
            "text/plain": [
              "<Figure size 640x480 with 1 Axes>"
            ],
            "image/png": "[encoded data removed]"
          },
          "metadata": {}
        }
      ]
    }
  ],
  "metadata": {
    "kernelspec": {
      "display_name": "Python 3 (ipykernel)",
      "language": "python",
      "name": "python3"
    },
    "language_info": {
      "codemirror_mode": {
        "name": "ipython",
        "version": 3
      },
      "file_extension": ".py",
      "mimetype": "text/x-python",
      "name": "python",
      "nbconvert_exporter": "python",
      "pygments_lexer": "ipython3",
      "version": "3.11.9"
    },
    "colab": {
      "provenance": []
    }
  },
  "nbformat": 4,
  "nbformat_minor": 5
}